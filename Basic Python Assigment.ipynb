{
 "cells": [
  {
   "cell_type": "code",
   "execution_count": 1,
   "id": "bd2c8f8d",
   "metadata": {},
   "outputs": [
    {
     "data": {
      "text/plain": [
       "[2, 6, 9, 9, 15, 19]"
      ]
     },
     "execution_count": 1,
     "metadata": {},
     "output_type": "execute_result"
    }
   ],
   "source": [
    "# using list comprehension for assigment 1\n",
    "#Write a program using the following list and sort it based on the sum of the values of the tuples of the list\n",
    "list1=[(1,5),(9,0),(12,3),(5,4),(13,6),(1,1)]\n",
    "\n",
    "result1=[sum(t) for t in list1] \n",
    "\n",
    "sorted(result1)\n",
    "    "
   ]
  },
  {
   "cell_type": "code",
   "execution_count": 2,
   "id": "5f06777f",
   "metadata": {},
   "outputs": [
    {
     "data": {
      "text/plain": [
       "[10, 20, 30, 40, [400, 300, 200, 100]]"
      ]
     },
     "execution_count": 2,
     "metadata": {},
     "output_type": "execute_result"
    }
   ],
   "source": [
    "#Given a two Python list. Iterate both lists simultaneously such that list1 should display item in original order and list2 in reverse order:\n",
    "\n",
    "#list1 = [10, 20, 30, 40], list2 = [100, 200, 300, 400] using addition of list and slicing\n",
    "\n",
    "list1 = [10, 20, 30, 40]\n",
    "\n",
    "list2 = [100, 200, 300, 400]\n",
    "\n",
    "new_list=list2[::-1]\n",
    "\n",
    "list1.append(new_list)\n",
    "\n",
    "list1"
   ]
  },
  {
   "cell_type": "code",
   "execution_count": 3,
   "id": "15406a7f",
   "metadata": {},
   "outputs": [
    {
     "name": "stdout",
     "output_type": "stream",
     "text": [
      "even\n",
      "odd\n",
      "even\n",
      "odd\n",
      "even\n",
      "odd\n",
      "even\n",
      "odd\n",
      "even\n"
     ]
    }
   ],
   "source": [
    "#Given number 1 through 10, write a program to display \"Even\" for even numbers and \"Odd\" for odd numbers.\n",
    "\n",
    "# go through the list and pick each element\n",
    "#check if the element is either even or odd\n",
    "#print even for even number and odd for odd number\n",
    "li = [2,3,4,5,6,7,8,9,10]\n",
    "\n",
    "l2=[]\n",
    "\n",
    "for i in li:\n",
    "    if i%2 ==0:\n",
    "        print(\"even\")\n",
    "    else:\n",
    "        i%2 == 1\n",
    "        print(\"odd\")\n"
   ]
  },
  {
   "cell_type": "code",
   "execution_count": 7,
   "id": "fe4bd0f3",
   "metadata": {},
   "outputs": [
    {
     "name": "stdout",
     "output_type": "stream",
     "text": [
      "Enter number 1\n",
      "Enter number 2\n",
      "Enter number 3\n",
      "Enter number 4\n",
      "Enter number 5\n",
      "2.0\n"
     ]
    }
   ],
   "source": [
    "#Write a program to collect\n",
    "#5 different numbers from a user and \n",
    "#display the average of the five numbers without storing the values collected at any pofor i in range(5) \n",
    "\n",
    "for average_num in range(5):\n",
    "    average_num = float(input(\"Enter number \"))\n",
    "    \n",
    "    \n",
    "sum = 0\n",
    "count = 0\n",
    "for average_num in range(5):\n",
    "    sum += average_num\n",
    "    count += 1\n",
    "average = sum / count\n",
    "print(average)\n",
    "    "
   ]
  },
  {
   "cell_type": "code",
   "execution_count": 8,
   "id": "549e8472",
   "metadata": {},
   "outputs": [
    {
     "name": "stdout",
     "output_type": "stream",
     "text": [
      "{1: 'a', 2: 'b', 3: 'c', 4: 'd', 5: 'e'}\n"
     ]
    }
   ],
   "source": [
    "#write a program such that  𝑙𝑖𝑠𝑡1  will act as keys while  𝑙𝑖𝑠𝑡2  will act as the values of the dictionary:\n",
    "\n",
    "list1 = [1, 2, 3, 4, 5] \n",
    "\n",
    "list2 = [\"a\", \"b\", \"c\",\"d\", \"e\"]\n",
    "\n",
    "print(dict(zip(list1, list2)))"
   ]
  },
  {
   "cell_type": "code",
   "execution_count": null,
   "id": "34743617",
   "metadata": {},
   "outputs": [],
   "source": []
  }
 ],
 "metadata": {
  "kernelspec": {
   "display_name": "Python 3 (ipykernel)",
   "language": "python",
   "name": "python3"
  },
  "language_info": {
   "codemirror_mode": {
    "name": "ipython",
    "version": 3
   },
   "file_extension": ".py",
   "mimetype": "text/x-python",
   "name": "python",
   "nbconvert_exporter": "python",
   "pygments_lexer": "ipython3",
   "version": "3.9.12"
  }
 },
 "nbformat": 4,
 "nbformat_minor": 5
}
