{
 "cells": [
  {
   "cell_type": "markdown",
   "metadata": {},
   "source": [
    "## Lists\n",
    "- Python list is also a built-in data structure available in Python. It can contain heterogeneous values \n",
    "such as integers, floats, strings, tuples, lists, and dictionaries. \n",
    "However, Python lists are mutable; yes, they can change."
   ]
  },
  {
   "cell_type": "code",
   "execution_count": null,
   "metadata": {},
   "outputs": [],
   "source": [
    "list1 = [1, 2, \"ade\", [\"apple\", \"banana\"], 2.5]"
   ]
  },
  {
   "cell_type": "code",
   "execution_count": null,
   "metadata": {},
   "outputs": [],
   "source": [
    "# creating a list with values\n",
    "Avengers = ['hulk', 'iron-man', 'Captain', 'Thor', 5, [\"Ali\", \"Simbi\"]]\n",
    "\n",
    "# empty list\n",
    "\n"
   ]
  },
  {
   "cell_type": "markdown",
   "metadata": {},
   "source": [
    "## Unpacking list values"
   ]
  },
  {
   "cell_type": "code",
   "execution_count": 1,
   "metadata": {},
   "outputs": [],
   "source": [
    "a, b = [1, 3]\n",
    "\n",
    "\n"
   ]
  },
  {
   "cell_type": "code",
   "execution_count": 2,
   "metadata": {},
   "outputs": [],
   "source": [
    "a, b, c = [2, 3, 1]\n",
    "\n"
   ]
  },
  {
   "cell_type": "code",
   "execution_count": null,
   "metadata": {},
   "outputs": [],
   "source": []
  },
  {
   "cell_type": "markdown",
   "metadata": {},
   "source": [
    "## List operations\n",
    "- In this section, you will learn slicing, accessing, adding, deleting, and updating the values in a list.\n",
    "\n",
    "### Accessing list values\n",
    "- In order to access list values, use list names with positional index in square brackets."
   ]
  },
  {
   "cell_type": "code",
   "execution_count": 3,
   "metadata": {},
   "outputs": [],
   "source": [
    "Avengers = ['hulk', 'iron-man', 'Captain', 'Thor', 5, [\"Ali\", \"Simbi\"]]\n",
    "\n",
    "\n",
    "# accessing elements at different position in the list\n",
    "\n"
   ]
  },
  {
   "cell_type": "markdown",
   "metadata": {},
   "source": [
    "### Slicing the list\n",
    "- The slicing of a list is the same as we did in tuples. See the syntax:\n",
    "\n",
    "    \n",
    "- $list-name$[start : stop : step]"
   ]
  },
  {
   "cell_type": "code",
   "execution_count": 4,
   "metadata": {},
   "outputs": [],
   "source": [
    "Avengers = ['hulk', 'iron-man', 'Captain', 'Thor', 5, [\"Ali\", \"Simbi\"]]\n",
    "\n",
    "\n",
    "# different examples of slicing\n",
    "\n",
    "\n",
    "\n",
    "#list1 = [1,2,3,4,5,6,7,8,9,10,11,12,13]\n",
    "\n",
    "\n",
    "# move through the list in step of 3\n",
    "\n"
   ]
  },
  {
   "cell_type": "markdown",
   "metadata": {},
   "source": [
    "## Updating the list\n",
    "- Lists are mutable, so the values of a list can be updated."
   ]
  },
  {
   "cell_type": "code",
   "execution_count": 6,
   "metadata": {},
   "outputs": [],
   "source": [
    "Avengers = ['hulk', 'iron-man', 'Captain', 'Thor', 5, [\"Ali\", \"Simbi\"]]\n",
    "\n",
    "# update the 3rd element to \"Captain-America\"\n",
    "\n",
    "\n"
   ]
  },
  {
   "cell_type": "markdown",
   "metadata": {},
   "source": [
    "## Deleting values from a list\n",
    "- By using the $del$ keyword, you can delete a value or a slice of list from the list. "
   ]
  },
  {
   "cell_type": "code",
   "execution_count": 106,
   "metadata": {},
   "outputs": [],
   "source": [
    "C_W_team = ['hulk', 'iron-man', 'Captain-America', 'Thor',\"Vision\"]\n",
    "\n",
    "# delete the first element from the list\n",
    "\n"
   ]
  },
  {
   "cell_type": "code",
   "execution_count": null,
   "metadata": {},
   "outputs": [],
   "source": []
  },
  {
   "cell_type": "code",
   "execution_count": 11,
   "metadata": {},
   "outputs": [],
   "source": []
  },
  {
   "cell_type": "markdown",
   "metadata": {},
   "source": [
    "## Addition of Python Lists\n",
    "- You can add two lists by using the + operator. "
   ]
  },
  {
   "cell_type": "code",
   "execution_count": 5,
   "metadata": {},
   "outputs": [],
   "source": [
    "Avengers1 = ['hulk', 'iron-man', 'Captain-America', 'Thor']\n",
    "Avengers2 = [\"Vision\",\"sam\"]\n",
    "\n",
    "# add the two lists\n",
    "\n"
   ]
  },
  {
   "cell_type": "markdown",
   "metadata": {},
   "source": [
    "## Multiplication of lists\n",
    "- By using the * operator, you can perform multiplication of Python lists."
   ]
  },
  {
   "cell_type": "code",
   "execution_count": 2,
   "metadata": {},
   "outputs": [],
   "source": [
    "av = ['Vision', 'sam']\n",
    "\n"
   ]
  },
  {
   "cell_type": "markdown",
   "metadata": {},
   "source": [
    "## in Operator\n",
    "- You can use the in operator on list with the if statement. "
   ]
  },
  {
   "cell_type": "code",
   "execution_count": 7,
   "metadata": {},
   "outputs": [],
   "source": [
    "Avengers= ['hulk', 'iron-man', 'Captain-America', 'Thor']\n",
    "\n",
    "# write a program that checks if \"iron-man\" is in the list and displays \"yes\" if it is otherwise \"no\"\n",
    "\n",
    "\n",
    "\n",
    "# you can also check on \"vision\"\n",
    "\n"
   ]
  },
  {
   "cell_type": "markdown",
   "metadata": {},
   "source": [
    "## List functions\n",
    "- In this section, we will discuss some Python built-in functions, which can be applied to a list.\n"
   ]
  },
  {
   "cell_type": "code",
   "execution_count": 8,
   "metadata": {},
   "outputs": [],
   "source": [
    "# The len() function returns the number of elements or values in the list\n",
    "Avengers = ['hulk', 'iron-man', 'Captain-America', 'Thor']\n",
    "\n",
    "\n",
    "# The max (list) function returns the element of the list with the maximum value:\n",
    "#list1 = [1, 2, 3, 4,510]\n",
    "\n"
   ]
  },
  {
   "cell_type": "markdown",
   "metadata": {},
   "source": [
    "## list()\n",
    "- You can easily convert a tuple into a list by using the list () function.\n"
   ]
  },
  {
   "cell_type": "code",
   "execution_count": 4,
   "metadata": {},
   "outputs": [],
   "source": [
    "# convert the tuple to a list\n",
    "tup1 = (\"a\",\"b\",\"c\")\n",
    "\n",
    "\n",
    "name = \"mohit raj\"\n",
    "\n"
   ]
  },
  {
   "cell_type": "markdown",
   "metadata": {},
   "source": [
    "## sorted()\n",
    "- Python offers you a function to sort the list, called sorted ().\n"
   ]
  },
  {
   "cell_type": "code",
   "execution_count": 10,
   "metadata": {},
   "outputs": [],
   "source": [
    "list1 = [2, 3, 0, 3, 1, 4, 7, 1]\n",
    "\n",
    "\n",
    "# sort the list both in ascending and descending order\n",
    "\n",
    "#tup1 = (2, 3, 0, 6, 1, 4, 7, 8)\n",
    "\n"
   ]
  },
  {
   "cell_type": "markdown",
   "metadata": {},
   "source": [
    "## List Methods\n",
    "- Here, we will discuss different methods that can be applied to a list."
   ]
  },
  {
   "cell_type": "markdown",
   "metadata": {},
   "source": [
    "## append()\n",
    "- The syntax for the append () method is given as follows:\n",
    "    - list.append () \n",
    "\n",
    "- The method adds a value at the end of the list."
   ]
  },
  {
   "cell_type": "code",
   "execution_count": 11,
   "metadata": {},
   "outputs": [],
   "source": [
    "Avengers = []\n",
    "\n",
    "# Append [\"iron-man\", 'Thor'] to the empty list\n",
    "\n",
    "\n",
    "# Also append \"Captain-America\" \n",
    "\n"
   ]
  },
  {
   "cell_type": "markdown",
   "metadata": {},
   "source": [
    "## extend()\n",
    "- If the goal is to add two lists together, and want the original list affected, then \"extend()\" is appropriate.\n",
    "- The syntax for the extend () method is given as follows:\n",
    "    - list1.extend (seq)"
   ]
  },
  {
   "cell_type": "code",
   "execution_count": 12,
   "metadata": {},
   "outputs": [],
   "source": [
    "Avengers1 = ['hulk', 'iron-man', 'Captain-America', 'Thor']\n",
    "Avengers2 = [\"Vision\",\"sam\"]\n",
    "\n",
    "\n",
    "# extend the first list by the second list\n",
    "\n"
   ]
  },
  {
   "cell_type": "code",
   "execution_count": 22,
   "metadata": {},
   "outputs": [],
   "source": [
    "#Avengers1"
   ]
  },
  {
   "cell_type": "markdown",
   "metadata": {},
   "source": [
    "## difference btw append and extend"
   ]
  },
  {
   "cell_type": "code",
   "execution_count": 13,
   "metadata": {},
   "outputs": [],
   "source": [
    "Linux  = [\"kali\", \"Ubuntu\", \"debian\"]\n",
    "Linux2 = [\"RHEL\", \"Centos\"]\n",
    "\n",
    "# append the two lists\n",
    "\n"
   ]
  },
  {
   "cell_type": "code",
   "execution_count": null,
   "metadata": {},
   "outputs": [],
   "source": [
    "# extend the lists\n",
    "\n"
   ]
  },
  {
   "cell_type": "markdown",
   "metadata": {},
   "source": [
    "## sorted() and sort()"
   ]
  },
  {
   "cell_type": "code",
   "execution_count": 14,
   "metadata": {},
   "outputs": [],
   "source": [
    "l1 = [3, 2, 3, 6, 9, 4, 50]\n",
    "\n",
    "\n",
    "# sort the list using sort() and sorted()\n",
    "\n"
   ]
  },
  {
   "cell_type": "markdown",
   "metadata": {},
   "source": [
    "## insert()\n",
    "- The syntax for the insert () method is given as follows:\n",
    "    - list1.insert (index1, item)\n",
    "    \n",
    "\n",
    "- $index1$ is the position where the item needs to be inserted. The $item$ is the value to be inserted into list1."
   ]
  },
  {
   "cell_type": "code",
   "execution_count": 5,
   "metadata": {},
   "outputs": [],
   "source": [
    "A = ['iron-man', 'hulk', 'Thor']\n",
    "\n",
    "# insert 'Captain-America' in the ist position \n",
    "\n"
   ]
  },
  {
   "cell_type": "code",
   "execution_count": null,
   "metadata": {},
   "outputs": [],
   "source": []
  },
  {
   "cell_type": "markdown",
   "metadata": {},
   "source": [
    "## List Comprehensions\n",
    "- List comprehension is a concise way of creating lists."
   ]
  },
  {
   "cell_type": "code",
   "execution_count": 17,
   "metadata": {},
   "outputs": [],
   "source": [
    "list1 = [2,3,4,5,6]\n",
    "\n",
    "# Write a program to get the cube of each number in the list\n",
    "\n"
   ]
  },
  {
   "cell_type": "code",
   "execution_count": 18,
   "metadata": {},
   "outputs": [],
   "source": [
    "#  Write a program to get the square of the even numbers of the list below\n",
    "list1 = [1,2,3,4,5,6, 7, 8, 9, 10]\n",
    "\n",
    "\n"
   ]
  },
  {
   "cell_type": "markdown",
   "metadata": {},
   "source": [
    "## Range Function"
   ]
  },
  {
   "cell_type": "code",
   "execution_count": 19,
   "metadata": {},
   "outputs": [],
   "source": [
    "# examples of range function\n"
   ]
  },
  {
   "cell_type": "code",
   "execution_count": 91,
   "metadata": {},
   "outputs": [],
   "source": [
    "\n"
   ]
  },
  {
   "cell_type": "markdown",
   "metadata": {},
   "source": [
    "## Input function"
   ]
  },
  {
   "cell_type": "code",
   "execution_count": null,
   "metadata": {},
   "outputs": [],
   "source": []
  },
  {
   "cell_type": "code",
   "execution_count": null,
   "metadata": {},
   "outputs": [],
   "source": []
  },
  {
   "cell_type": "markdown",
   "metadata": {},
   "source": [
    "## Short exercise\n",
    "- Given a list of 1 through 10, write a program to display the cube of the odd numbers"
   ]
  },
  {
   "cell_type": "markdown",
   "metadata": {},
   "source": [
    "## Dictionaries\n",
    "- In Python, a dictionary is a sequence of key-value, or item pairs separated by commas. \n",
    "- Consider the following example:\n",
    "    - port = {22: \"SSH\", 23: \"Telnet\" , 53: \"DNS\", 80: \"HTTP\" } \n",
    "- The port variable refers to a dictionary that contains port numbers as keys and its protocol names as values. \n",
    "- Consider the following example:\n",
    "    - companies = {\"IBM\": \"International Business Machines\", \"L&T\" :\"Larsen & Toubro\"} \n",
    "- The syntax of a dictionary is as follows:\n",
    "    - Dictionary_name = {key: value}"
   ]
  },
  {
   "cell_type": "markdown",
   "metadata": {},
   "source": [
    "## Accessing the values of dictionary\n",
    "- In order to access the dictionary's values you will need the key."
   ]
  },
  {
   "cell_type": "code",
   "execution_count": 27,
   "metadata": {},
   "outputs": [],
   "source": [
    "port = {80: \"HTTP\", 23 : \"Telnet\", 443 : \"HTTPS\"} \n",
    "\n",
    "# get the key of value 23\n",
    "\n"
   ]
  },
  {
   "cell_type": "markdown",
   "metadata": {},
   "source": [
    "## Deleting an item from the dictionary\n",
    "- By using the $del$ keyword, you can delete the entire dictionary or the dictionary's items."
   ]
  },
  {
   "cell_type": "code",
   "execution_count": 10,
   "metadata": {},
   "outputs": [],
   "source": [
    "# delete an item in the dictionary\n",
    "\n"
   ]
  },
  {
   "cell_type": "markdown",
   "metadata": {},
   "source": [
    "## Updating the values of the dictionary\n",
    "- Updating the dictionary is pretty simple; just specify the key in the square bracket along with the dictionary name. \n",
    "The syntax is as follows:\n",
    "    - dict[key] = new_value "
   ]
  },
  {
   "cell_type": "code",
   "execution_count": 21,
   "metadata": {},
   "outputs": [],
   "source": [
    "port = {80: \"HTTP\", 23 : \"SMTP\", 443 : \"HTTPS\"} \n",
    "\n",
    "# update the value of key 23 to \"TELNET\"\n",
    "\n"
   ]
  },
  {
   "cell_type": "markdown",
   "metadata": {},
   "source": [
    "## Adding an item to the dictionary\n",
    "- Adding an item to the dictionary is very simple; just specify a new key in the square brackets along with the dictionary."
   ]
  },
  {
   "cell_type": "code",
   "execution_count": 22,
   "metadata": {},
   "outputs": [],
   "source": [
    "# add key:value (110:'POP') to the dictionary above\n",
    "\n"
   ]
  },
  {
   "cell_type": "markdown",
   "metadata": {},
   "source": [
    "## Dictionary functions"
   ]
  },
  {
   "cell_type": "code",
   "execution_count": 23,
   "metadata": {},
   "outputs": [],
   "source": [
    "# In order to find the number of items that are present in a dictionary, you can use the len() function.\n",
    "\n"
   ]
  },
  {
   "cell_type": "code",
   "execution_count": 25,
   "metadata": {},
   "outputs": [],
   "source": [
    "# convert list to a dictionary\n",
    "port = [[80,\"http\"],[20,\"ftp\"],[23,\"telnet\"],[443,\"https\"],[53,\"DNS\"]] \n",
    "\n"
   ]
  },
  {
   "cell_type": "markdown",
   "metadata": {},
   "source": [
    "## items()\n",
    "- The items() method returns the list of dictionary's (key, value) tuple pairs."
   ]
  },
  {
   "cell_type": "code",
   "execution_count": 29,
   "metadata": {},
   "outputs": [],
   "source": [
    "dict1 = {1: 'one', 2:'two', 3:'three'}\n",
    "\n",
    "# get the keys and values of the dictionary\n",
    "\n",
    "\n",
    "# we can also get the items\n"
   ]
  },
  {
   "cell_type": "code",
   "execution_count": null,
   "metadata": {},
   "outputs": [],
   "source": []
  },
  {
   "cell_type": "markdown",
   "metadata": {},
   "source": [
    "## in Operator\n",
    "- The in operator can be used to find the existence of a key in the dictionary."
   ]
  },
  {
   "cell_type": "code",
   "execution_count": 35,
   "metadata": {},
   "outputs": [],
   "source": [
    "port1 = {21: \"FTP\", 22:\"SSH\", 23: \"telnet\", 80: \"http\"} \n",
    "\n",
    "# write a program to collect an integer key from a user, if the key is in the port, then print yes otherwise no\n",
    "\n"
   ]
  },
  {
   "cell_type": "markdown",
   "metadata": {},
   "source": [
    "## Python Dictionary with for loop"
   ]
  },
  {
   "cell_type": "code",
   "execution_count": 9,
   "metadata": {},
   "outputs": [],
   "source": [
    "port1 = {21: \"FTP\", 22 :\"SSH\", 23: \"telnet\", 80: \"http\"} \n",
    "\n"
   ]
  },
  {
   "cell_type": "markdown",
   "metadata": {},
   "source": [
    "## Exercise\n",
    "-  Write a program using the following list and sort it based on the sum of the values of the tuples of the list:\n",
    "    - [(1,5),(9,0),(12,3),(5,4),(13,6),(1,1)]\n",
    "\n",
    "    \n",
    "-  Given a two Python list. Iterate both lists simultaneously such that list1 should display item in original order\n",
    "and list2 in reverse order:\n",
    "    - list1 = [10, 20, 30, 40], list2 = [100, 200, 300, 400]\n",
    "\n",
    "- Given number 1 through 10, write a program to display \"Even\" for even numbers and \"Odd\" for odd numbers.\n",
    "\n",
    "-  Write a Python program to count the number of strings where the string length is 2 or more and \n",
    "the first and last character are same from a given list of strings:\n",
    "    - ['abc', 'xyz', 'aba', '1221', 'bhgsskknb', 'aa', 'd'] \n",
    "    \n",
    "- Write a program to collect 5 different numbers from a user and display the average of the five numbers without storing the values collected at any point.\n",
    "\n",
    "- write a program such that $list1$ will act as keys while $list2$ will act as the values of the dictionary:\n",
    "    - list1 = [1, 2, 3, 4, 5], list2 = [\"a\", \"b\", \"c\",\"d\", \"e\"] "
   ]
  },
  {
   "cell_type": "code",
   "execution_count": null,
   "metadata": {},
   "outputs": [],
   "source": []
  }
 ],
 "metadata": {
  "kernelspec": {
   "display_name": "Python 3",
   "language": "python",
   "name": "python3"
  },
  "language_info": {
   "codemirror_mode": {
    "name": "ipython",
    "version": 3
   },
   "file_extension": ".py",
   "mimetype": "text/x-python",
   "name": "python",
   "nbconvert_exporter": "python",
   "pygments_lexer": "ipython3",
   "version": "3.7.10"
  }
 },
 "nbformat": 4,
 "nbformat_minor": 4
}
